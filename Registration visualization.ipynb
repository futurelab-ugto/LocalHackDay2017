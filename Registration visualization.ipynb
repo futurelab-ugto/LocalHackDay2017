{
 "cells": [
  {
   "cell_type": "markdown",
   "metadata": {
    "toc": "true"
   },
   "source": [
    "# Table of Contents\n",
    " <p><div class=\"lev1 toc-item\"><a href=\"#Registration-visualization-of-LHD-@-UG\" data-toc-modified-id=\"Registration-visualization-of-LHD-@-UG-1\"><span class=\"toc-item-num\">1&nbsp;&nbsp;</span>Registration visualization of LHD @ UG</a></div><div class=\"lev2 toc-item\"><a href=\"#Open-notebook-and-extract-data\" data-toc-modified-id=\"Open-notebook-and-extract-data-11\"><span class=\"toc-item-num\">1.1&nbsp;&nbsp;</span>Open notebook and extract data</a></div><div class=\"lev2 toc-item\"><a href=\"#Build-indices\" data-toc-modified-id=\"Build-indices-12\"><span class=\"toc-item-num\">1.2&nbsp;&nbsp;</span>Build indices</a></div><div class=\"lev4 toc-item\"><a href=\"#Load-HTML-hidden-style\" data-toc-modified-id=\"Load-HTML-hidden-style-1201\"><span class=\"toc-item-num\">1.2.0.1&nbsp;&nbsp;</span>Load HTML hidden style</a></div>"
   ]
  },
  {
   "cell_type": "markdown",
   "metadata": {},
   "source": [
    "# Registration visualization of LHD @ UG\n",
    "\n",
    "The present notebook contains a code for extraction and visualization of data gathered from the registration of the MLH Local Hack Day @ Universidad de Guanajuato.\n",
    "\n",
    "Here you'll find analytics and –sort of– selection of people to assist to the event."
   ]
  },
  {
   "cell_type": "markdown",
   "metadata": {},
   "source": [
    "## Open notebook and extract data\n",
    "\n",
    "We're about to use [`gspread`](https://gspread.readthedocs.io/en/latest/) Python package to open and interact with all the data from registration form.\n",
    "\n",
    "First of all, we'll use [this wizard](https://console.developers.google.com/start/api?id=sheets.googleapis.com) to enable and create a Google API JSON containing our access keys. A reference guide on how to do this can be fouund [here](https://www.twilio.com/blog/2017/02/an-easy-way-to-read-and-write-to-a-google-spreadsheet-in-python.html).\n",
    "\n",
    "We are about to open our file `\"Local Hack Day @ Universidad de Guanajuato (Responses)\"` using our hidden file `._client_secret.json` and print out the number of registered people."
   ]
  },
  {
   "cell_type": "code",
   "execution_count": 37,
   "metadata": {
    "ExecuteTime": {
     "end_time": "2017-11-20T00:06:38.232469Z",
     "start_time": "2017-11-20T00:06:36.747762Z"
    }
   },
   "outputs": [
    {
     "name": "stdout",
     "output_type": "stream",
     "text": [
      "Number of registered people: 54\n"
     ]
    }
   ],
   "source": [
    "import gspread\n",
    "from oauth2client.service_account import ServiceAccountCredentials\n",
    "from pprint import pprint\n",
    "\n",
    "# File names:\n",
    "cred_file = \"._client_secret.json\"\n",
    "sheet_name = \"Local Hack Day @ Universidad de Guanajuato (Responses)\"\n",
    " \n",
    "# Use credentials to create a client to interact with the Google Drive API:\n",
    "scope = ['https://spreadsheets.google.com/feeds']\n",
    "creds = ServiceAccountCredentials.from_json_keyfile_name(cred_file, scope)\n",
    "client = gspread.authorize(creds)\n",
    " \n",
    "# Find a workbook by name and open the first sheet:\n",
    "sheet = client.open(sheet_name).sheet1\n",
    " \n",
    "# Extract and print all of the values:\n",
    "list_of_hashes = sheet.get_all_records()\n",
    "print(\"Number of registered people: {}\".format(len(list_of_hashes)))"
   ]
  },
  {
   "cell_type": "markdown",
   "metadata": {},
   "source": [
    "We're now interested on the values of the question contained in the form, we can access this data by printing the 0-index element from the sheet. We save this data as keys.\n",
    "\n",
    "We also save the responses in a responses list."
   ]
  },
  {
   "cell_type": "code",
   "execution_count": 8,
   "metadata": {
    "ExecuteTime": {
     "end_time": "2017-11-19T23:45:59.131444Z",
     "start_time": "2017-11-19T23:45:58.062956Z"
    }
   },
   "outputs": [
    {
     "name": "stdout",
     "output_type": "stream",
     "text": [
      "['Timestamp', 'Nombre completo:', 'Correo electrónico:', 'Teléfono personal:', 'Edad:', 'Género:', 'Carrera que estudias:', 'División a la que perteneces:', 'Campus de procedencia:', '¿Qué tan pro-activo eres en actividades curriculares?', '¿Qué tan pro-activo eres en actividades extra curriculares?', 'Platícanos brevemente sobre tus actividades más relevantes:', '¿A qué perfil aplicarías para participar?', '¿Qué experiencia tienes en este perfil?', 'Herramientas que utilizas para tu perfil:', '¿Has participado en eventos parecidos o relacionados antes?', '¿Tienes pensado participar en equipo?', 'MLH Code of Conduct:', 'Código de Conducta del Local Hack Day @ UG:']\n"
     ]
    }
   ],
   "source": [
    "# Get form questions and save them as keys:\n",
    "keys = sheet.get_all_values()[0]\n",
    "resp = sheet.get_all_values()[1:]\n",
    "print(keys)"
   ]
  },
  {
   "cell_type": "markdown",
   "metadata": {},
   "source": [
    "## Build indices\n",
    "\n",
    "After getting our form keys, we identify the value associated to each index as folows:\n",
    "\n",
    "```json\n",
    "{\n",
    "    0: 'Timestamp', \n",
    "    1: 'Nombre completo:', \n",
    "    2: 'Correo electrónico:', \n",
    "    3: 'Teléfono personal:', \n",
    "    4: 'Edad:', \n",
    "    5: 'Género:', \n",
    "    6: 'Carrera que estudias:', \n",
    "    7: 'División a la que perteneces:', \n",
    "    8: 'Campus de procedencia:', \n",
    "    9: '¿Qué tan pro-activo eres en actividades curriculares?', \n",
    "    10: '¿Qué tan pro-activo eres en actividades extra curriculares?', \n",
    "    11: 'Platícanos brevemente sobre tus actividades más relevantes:', \n",
    "    12: '¿A qué perfil aplicarías para participar?', \n",
    "    13: '¿Qué experiencia tienes en este perfil?', \n",
    "    14: 'Herramientas que utilizas para tu perfil:', \n",
    "    15: '¿Has participado en eventos parecidos o relacionados antes?', \n",
    "    16: '¿Tienes pensado participar en equipo?', 'MLH Code of Conduct:', \n",
    "    17: 'Código de Conducta del Local Hack Day @ UG:'\n",
    "}\n",
    "```\n",
    "\n",
    "We are now able to interact in a more direct way with our data."
   ]
  },
  {
   "cell_type": "code",
   "execution_count": 45,
   "metadata": {
    "ExecuteTime": {
     "end_time": "2017-11-20T00:15:28.035156Z",
     "start_time": "2017-11-20T00:15:28.000086Z"
    }
   },
   "outputs": [
    {
     "name": "stdout",
     "output_type": "stream",
     "text": [
      "Expertos: 10\n",
      "Diseñadores: 6\n",
      "Business: 2\n",
      "Devs: 36\n",
      "\n",
      "Total registered: 54\n"
     ]
    }
   ],
   "source": [
    "# We create specific lists:\n",
    "exps = [resp[i] for i in range(len(resp)) if resp[i][12] == 'Experto en el área']\n",
    "dess = [resp[i] for i in range(len(resp)) if resp[i][12] == 'Diseño']\n",
    "buss = [resp[i] for i in range(len(resp)) if resp[i][12] == 'Negocios']\n",
    "devs = [resp[i] for i in range(len(resp)) if resp[i][12] == 'Desarrollador/maker']\n",
    "\n",
    "# Print numbers to check out consistency:\n",
    "print(\"Expertos: {}\".format(len(exps)))\n",
    "print(\"Diseñadores: {}\".format(len(dess)))\n",
    "print(\"Business: {}\".format(len(buss)))\n",
    "print(\"Devs: {}\".format(len(devs)))\n",
    "print()\n",
    "\n",
    "# Print out total:\n",
    "print(\"Total registered: {}\".format(sum([len(exps), len(dess), len(buss), len(devs)])))"
   ]
  },
  {
   "cell_type": "code",
   "execution_count": null,
   "metadata": {
    "collapsed": true
   },
   "outputs": [],
   "source": []
  },
  {
   "cell_type": "markdown",
   "metadata": {},
   "source": [
    "#### Load HTML hidden style"
   ]
  },
  {
   "cell_type": "code",
   "execution_count": 46,
   "metadata": {
    "ExecuteTime": {
     "end_time": "2017-11-20T00:16:16.819430Z",
     "start_time": "2017-11-20T00:16:16.809704Z"
    }
   },
   "outputs": [
    {
     "data": {
      "text/html": [
       "<style>\n",
       "/*\n",
       "\n",
       "    Name:       Base16 Summerfruit Light\n",
       "    Author:     Christopher Corley (http://cscorley.github.io/)\n",
       "\n",
       "    CodeMirror template adapted for IPython Notebook by Nikhil Sonnad (https://github.com/nsonnad/base16-ipython-notebook)\n",
       "    CodeMirror template by Jan T. Sott (https://github.com/idleberg/base16-chrome-devtools)\n",
       "    Original Base16 color scheme by Chris Kempson (https://github.com/chriskempson/base16)\n",
       "\n",
       "*/\n",
       "\n",
       "/* Uncomment to use a custom font\n",
       "div#notebook, div.CodeMirror, div.output_area pre, div.output_wrapper, div.prompt {\n",
       "  font-family: 'Custom Font Name', monospace !important;\n",
       "}\n",
       "*/\n",
       "\n",
       "/* GLOBALS */\n",
       "body {background-color: #FFFFFF;font-family: Fira Sans, Menlo, sans;}\n",
       "a {color: #3777E6;}\n",
       ".text_cell_render h1 {color: #4271ae;}\n",
       ".text_cell_render h2 {color: #3e999f;}\n",
       ".text_cell_render h3 {color: #3e999f;}\n",
       ".text_cell_render h4 {color: #3e999f;}\n",
       "\n",
       "/* INTRO PAGE */\n",
       ".toolbar_info, .list-container {color: #202020;}\n",
       "\n",
       "/* NOTEBOOK */\n",
       "\n",
       "/* comment out this line to bring the toolbar back */\n",
       "/*div#maintoolbar, div#header {display: none !important;}*/\n",
       "\n",
       "div#notebook {border-top: none;}\n",
       "\n",
       "div.input_prompt {color: #AD00A1;}\n",
       "div.output_prompt {color: #cc6633;}\n",
       "div.input_area {\n",
       "  border-radius: 0px;\n",
       "  border: 1px solid #D0D0D0;\n",
       "}\n",
       "div.output_area pre {font-weight: normal; color: #303030;}\n",
       "div.output_subarea {font-weight: normal; color: #303030;}\n",
       "\n",
       ".rendered_html table, .rendered_html th, .rendered_html tr, .rendered_html td {\n",
       "  border: 1px  #505050 solid;\n",
       "  color: #505050;\n",
       "}\n",
       "div.output_html { font-family: sans-serif; }\n",
       "table.dataframe tr {border: 1px #303030;}\n",
       "\n",
       "div.cell.selected {border-radius: 0px;}\n",
       "div.cell.edit_mode {border-radius: 0px; border: thin solid #cc6633;}\n",
       "div.text_cell_render, div.output_html {color: #303030;}\n",
       "\n",
       "span.ansiblack {color: #202020;}\n",
       "span.ansiblue {color: #1faaaa;}\n",
       "span.ansigray {color: #B0B0B0;}\n",
       "span.ansigreen {color: #00C918;}\n",
       "span.ansipurple {color: #AD00A1;}\n",
       "span.ansired {color: #FF0086;}\n",
       "span.ansiyellow {color: #ABA800;}\n",
       "\n",
       "div.output_stderr {background-color: #FF0086;}\n",
       "div.output_stderr pre {color: #E0E0E0;}\n",
       "\n",
       ".cm-s-ipython.CodeMirror {background: #FFFFFF; color: #202020;}\n",
       ".cm-s-ipython div.CodeMirror-selected {background: #E0E0E0 !important;}\n",
       ".cm-s-ipython .CodeMirror-gutters {background: #FFFFFF; border-right: 0px;}\n",
       ".cm-s-ipython .CodeMirror-linenumber {color: #B0B0B0;}\n",
       ".cm-s-ipython .CodeMirror-cursor {border-left: 1px solid #505050 !important;}\n",
       "\n",
       ".cm-s-ipython span.cm-comment {color: #cc6633;}\n",
       ".cm-s-ipython span.cm-atom {color: #AD00A1;}\n",
       ".cm-s-ipython span.cm-number {color: #AD00A1;}\n",
       "\n",
       ".cm-s-ipython span.cm-property, .cm-s-ipython span.cm-attribute {color: #00C918;}\n",
       ".cm-s-ipython span.cm-keyword {color: #FF0086;}\n",
       ".cm-s-ipython span.cm-string {color: #ABA800;}\n",
       ".cm-s-ipython span.cm-operator {color: #cc6633;}\n",
       ".cm-s-ipython span.cm-builtin {color: #AD00A1;}\n",
       "\n",
       ".cm-s-ipython span.cm-variable {color: #00C918;}\n",
       ".cm-s-ipython span.cm-variable-2 {color: #3777E6;}\n",
       ".cm-s-ipython span.cm-def {color: #FD8900;}\n",
       ".cm-s-ipython span.cm-error {background: #FF0086; color: #505050;}\n",
       ".cm-s-ipython span.cm-bracket {color: #303030;}\n",
       ".cm-s-ipython span.cm-tag {color: #FF0086;}\n",
       ".cm-s-ipython span.cm-link {color: #AD00A1;}\n",
       "\n",
       ".cm-s-ipython .CodeMirror-matchingbracket { text-decoration: underline; color: #202020 !important;}\n",
       "</style>\n"
      ],
      "text/plain": [
       "<IPython.core.display.HTML object>"
      ]
     },
     "execution_count": 46,
     "metadata": {},
     "output_type": "execute_result"
    }
   ],
   "source": [
    "from IPython.core.display import HTML\n",
    "def css_styling():\n",
    "    style = open(\"./.mystyle.css\", \"r\").read()\n",
    "    return HTML(style)\n",
    "css_styling()"
   ]
  },
  {
   "cell_type": "code",
   "execution_count": null,
   "metadata": {
    "collapsed": true
   },
   "outputs": [],
   "source": []
  }
 ],
 "metadata": {
  "anaconda-cloud": {},
  "kernelspec": {
   "display_name": "Python [conda root]",
   "language": "python",
   "name": "conda-root-py"
  },
  "language_info": {
   "codemirror_mode": {
    "name": "ipython",
    "version": 3
   },
   "file_extension": ".py",
   "mimetype": "text/x-python",
   "name": "python",
   "nbconvert_exporter": "python",
   "pygments_lexer": "ipython3",
   "version": "3.6.1"
  },
  "toc": {
   "colors": {
    "hover_highlight": "#DAA520",
    "navigate_num": "#000000",
    "navigate_text": "#333333",
    "running_highlight": "#FF0000",
    "selected_highlight": "#FFD700",
    "sidebar_border": "#EEEEEE",
    "wrapper_background": "#FFFFFF"
   },
   "moveMenuLeft": true,
   "nav_menu": {
    "height": "11px",
    "width": "252px"
   },
   "navigate_menu": true,
   "number_sections": false,
   "sideBar": true,
   "threshold": 4,
   "toc_cell": true,
   "toc_section_display": "block",
   "toc_window_display": false,
   "widenNotebook": false
  }
 },
 "nbformat": 4,
 "nbformat_minor": 2
}
